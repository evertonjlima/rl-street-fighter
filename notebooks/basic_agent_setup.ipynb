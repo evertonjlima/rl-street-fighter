{
 "cells": [
  {
   "cell_type": "code",
   "execution_count": 2,
   "id": "6c30c08e-a0d0-4509-9ce2-4747569763c7",
   "metadata": {},
   "outputs": [],
   "source": [
    "from street_fighter_ai.agents.base import BaseAgent"
   ]
  },
  {
   "cell_type": "code",
   "execution_count": 3,
   "id": "ad3c0966-d363-4407-acc3-89ec43628545",
   "metadata": {},
   "outputs": [
    {
     "data": {
      "text/plain": [
       "street_fighter_ai.agents.base.BaseAgent"
      ]
     },
     "execution_count": 3,
     "metadata": {},
     "output_type": "execute_result"
    }
   ],
   "source": [
    "BaseAgent"
   ]
  },
  {
   "cell_type": "code",
   "execution_count": null,
   "id": "d55322db-7eeb-423b-84b6-d10c8a5d1f85",
   "metadata": {},
   "outputs": [],
   "source": []
  }
 ],
 "metadata": {
  "kernelspec": {
   "display_name": "Python 3 (ipykernel)",
   "language": "python",
   "name": "python3"
  },
  "language_info": {
   "codemirror_mode": {
    "name": "ipython",
    "version": 3
   },
   "file_extension": ".py",
   "mimetype": "text/x-python",
   "name": "python",
   "nbconvert_exporter": "python",
   "pygments_lexer": "ipython3",
   "version": "3.8.10"
  }
 },
 "nbformat": 4,
 "nbformat_minor": 5
}
